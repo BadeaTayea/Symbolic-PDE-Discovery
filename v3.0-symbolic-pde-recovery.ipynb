{
 "cells": [
  {
   "cell_type": "code",
   "execution_count": 4,
   "id": "9fada209-4c92-4590-9451-58a6c738c086",
   "metadata": {},
   "outputs": [],
   "source": [
    "# !pip install imageio"
   ]
  },
  {
   "cell_type": "code",
   "execution_count": 3,
   "id": "53978163-85e2-4b39-b8e7-de81eeb4fc93",
   "metadata": {},
   "outputs": [],
   "source": [
    "# $ sudo apt update && sudo apt install -y \\\n",
    "#     texlive-latex-base \\\n",
    "#     texlive-fonts-recommended \\\n",
    "#     texlive-fonts-extra \\\n",
    "#     texlive-latex-extra \\\n",
    "#     dvipng \\\n",
    "#     cm-super"
   ]
  },
  {
   "cell_type": "markdown",
   "id": "97db770c-3966-4f9f-ba98-c91ff2e63409",
   "metadata": {},
   "source": [
    "# Imports"
   ]
  },
  {
   "cell_type": "code",
   "execution_count": 65,
   "id": "1cb00206-4582-4a57-897e-f3093929279e",
   "metadata": {},
   "outputs": [],
   "source": [
    "from visualize_original_systems import (\n",
    "    load_dataset,\n",
    "    plot_1d_heatmap,\n",
    "    plot_1d_heatmap_anim,\n",
    "    plot_2d_heatmap_anim\n",
    ")\n",
    "\n",
    "# Define dataset paths\n",
    "data_paths = {\n",
    "    1: \"data/1\",\n",
    "    2: \"data/2\",\n",
    "    3: \"data/3\"\n",
    "}\n",
    "\n",
    "# Define colormaps for visualization\n",
    "colormaps = {\n",
    "    1: \"jet\",\n",
    "    2: \"jet\",\n",
    "    3: \"jet\"\n",
    "}"
   ]
  },
  {
   "cell_type": "code",
   "execution_count": null,
   "id": "e1403360-ca8b-4abb-bdce-9ee11d9352db",
   "metadata": {},
   "outputs": [],
   "source": [
    "from derivative_approximators import (\n",
    "    TikhonovDiff,\n",
    "    FiniteDiff,\n",
    "    ConvSmoother,\n",
    "    PolyDiff,\n",
    "    PolyDiffPoint\n",
    ")\n",
    "\n",
    "from build_theta_linear_system import (\n",
    "    build_Theta,\n",
    "    build_linear_system\n",
    ")\n",
    "\n",
    "from sparse_regression_solvers import (\n",
    "    STRidge,\n",
    "    TrainSTRidge\n",
    ")\n",
    "\n",
    "from utilities_1D import (\n",
    "    print_pde,\n",
    "    get_pde_string, \n",
    "    normalize_data\n",
    ")\n",
    "\n",
    "from visualize_1D import (\n",
    "    plot_comparison_heatmaps,\n",
    "    animate_comparison,\n",
    "    plot_pde_terms, \n",
    "    plot_candidate_terms, \n",
    "    plot_residual_over_time,\n",
    "    scatter_true_vs_pred\n",
    ")"
   ]
  },
  {
   "cell_type": "code",
   "execution_count": null,
   "id": "bac84610-a748-4093-a2ac-cd1f55cf383b",
   "metadata": {},
   "outputs": [],
   "source": [
    "from utilities_2D import (\n",
    "    TrainSTRidge_multioutput,\n",
    "    build_linear_system_2D, \n",
    "    downsample_3d\n",
    ")\n",
    "\n",
    "from visualize_2D import (\n",
    "    load_dataset,\n",
    "    animate_comparison_heatmaps_2D,\n",
    "    plot_candidate_terms_PDE3,\n",
    "    plot_candidate_terms_spatial,\n",
    "    plot_residual_over_time_2D,\n",
    "    animate_comparison_2D_slice,\n",
    "    plot_pde_terms_multioutput,\n",
    "    scatter_true_vs_pred_with_footnote\n",
    ")\n"
   ]
  },
  {
   "cell_type": "code",
   "execution_count": null,
   "id": "12ea0cbc-8941-4285-932c-66e2ad09e41a",
   "metadata": {},
   "outputs": [],
   "source": [
    "import numpy as np\n",
    "from numpy import linalg as LA\n",
    "import os\n",
    "import matplotlib.pyplot as plt\n",
    "import matplotlib.animation as animation\n",
    "import matplotlib.ticker as ticker\n",
    "import matplotlib.cm as cm\n",
    "import matplotlib.colors as mcolors\n",
    "import imageio\n",
    "import imageio.v2 as imageio\n",
    "import shutil\n",
    "\n",
    "import warnings\n",
    "warnings.filterwarnings(\"ignore\", category=np.ComplexWarning)\n",
    "\n",
    "# Enable LaTeX rendering\n",
    "plt.rcParams.update({\n",
    "    \"text.usetex\": True,\n",
    "    \"font.family\": \"serif\",\n",
    "})"
   ]
  },
  {
   "cell_type": "markdown",
   "id": "49f34485-659a-4ac3-97ff-1c35f1eeca30",
   "metadata": {},
   "source": [
    "---"
   ]
  },
  {
   "cell_type": "markdown",
   "id": "07d54210-4191-4157-acb9-fd3dc5800ac5",
   "metadata": {},
   "source": [
    "# Animations of Mystery (Original) Dynamical Systems"
   ]
  },
  {
   "cell_type": "code",
   "execution_count": 70,
   "id": "e08bbda1-78d2-409c-b46c-08538ac8999a",
   "metadata": {
    "scrolled": true
   },
   "outputs": [],
   "source": [
    "# Main execution\n",
    "results_dir = \"results/new_visualizations\"\n",
    "os.makedirs(results_dir, exist_ok=True)\n",
    "\n",
    "# Processing System 1\n",
    "print(\"Processing system 1...\")\n",
    "U1, V1, X1, Y1, T1 = load_dataset(data_paths[1])\n",
    "plot_1d_heatmap(U1, T1, X1, \"system_1_U\", results_dir, colormaps[1])\n",
    "plot_1d_heatmap_anim(U1, T1, X1, \"system_1_U\", results_dir, colormaps[1])"
   ]
  },
  {
   "cell_type": "code",
   "execution_count": null,
   "id": "739e62f4-6ed3-49c9-8a8d-0f187d5ef5a6",
   "metadata": {},
   "outputs": [],
   "source": [
    "# Processing System 2\n",
    "print(\"Processing system 2...\")\n",
    "U2, V2, X2, Y2, T2 = load_dataset(data_paths[2])\n",
    "plot_1d_heatmap(U2, T2, X2, \"system_2_U\", results_dir, colormaps[2])\n",
    "plot_1d_heatmap_anim(U2, T2, X2, \"system_2_U\", results_dir, colormaps[2])"
   ]
  },
  {
   "cell_type": "code",
   "execution_count": null,
   "id": "6757e088-5746-429e-85e9-8fa458b7eda4",
   "metadata": {},
   "outputs": [],
   "source": [
    "# Processing System 3\n",
    "print(\"Processing system 3...\")\n",
    "U3, V3, X3, Y3, T3 = load_dataset(data_paths[3])\n",
    "plot_2d_heatmap_anim(U3, T3, X3, Y3, \"system_3_U\", results_dir, colormaps[3])\n",
    "if V3 is not None:\n",
    "    plot_2d_heatmap_anim(V3, T3, X3, Y3, \"system_3_V\", results_dir, colormaps[3])"
   ]
  },
  {
   "cell_type": "markdown",
   "id": "046a99aa-3a4c-4144-ba90-747b530fbb71",
   "metadata": {},
   "source": [
    "# Data Inspection"
   ]
  },
  {
   "cell_type": "code",
   "execution_count": 7,
   "id": "4d68e10d-f821-4738-9493-e0329ad91c6b",
   "metadata": {},
   "outputs": [],
   "source": [
    "# Paths to data files\n",
    "data_path_1 = \"data/1/\"\n",
    "data_path_2 = \"data/2/\"\n",
    "data_path_3 = \"data/3/\"\n",
    "\n",
    "# Load data for File 1\n",
    "t1 = np.load(data_path_1 + \"t.npy\")\n",
    "x1 = np.load(data_path_1 + \"x.npy\")\n",
    "u1 = np.load(data_path_1 + \"u.npy\")\n",
    "\n",
    "# Load data for File 2\n",
    "t2 = np.load(data_path_2 + \"t.npy\")\n",
    "x2 = np.load(data_path_2 + \"x.npy\")\n",
    "u2 = np.load(data_path_2 + \"u.npy\")\n",
    "\n",
    "# Load data for File 3\n",
    "t3 = np.load(data_path_3 + \"t.npy\")\n",
    "x3 = np.load(data_path_3 + \"x.npy\")\n",
    "y3 = np.load(data_path_3 + \"y.npy\")\n",
    "u3 = np.load(data_path_3 + \"u.npy\")  # u(x, y, t)\n",
    "v3 = np.load(data_path_3 + \"v.npy\")  # v(x, y, t)"
   ]
  },
  {
   "cell_type": "code",
   "execution_count": 9,
   "id": "560f224c-fea1-46bc-b1f2-610b08368c6d",
   "metadata": {},
   "outputs": [
    {
     "name": "stdout",
     "output_type": "stream",
     "text": [
      "File 1 Data Shapes: x: (256, 101) t: (256, 101) u: (256, 101)\n",
      "File 2 Data Shapes: x: (512, 201) t: (512, 201) u: (512, 201)\n",
      "File 3 Data Shapes: x: (256, 256, 201) y: (256, 256, 201) t: (256, 256, 201) u: (256, 256, 201) v: (256, 256, 201)\n"
     ]
    }
   ],
   "source": [
    "# Inspect shapes of the data\n",
    "print(\"File 1 Data Shapes: x:\", x1.shape, \"t:\", t1.shape, \"u:\", u1.shape)\n",
    "print(\"File 2 Data Shapes: x:\", x2.shape, \"t:\", t2.shape, \"u:\", u2.shape)\n",
    "print(\"File 3 Data Shapes: x:\", x3.shape, \"y:\", y3.shape, \"t:\", t3.shape, \"u:\", u3.shape, \"v:\", v3.shape)"
   ]
  },
  {
   "cell_type": "markdown",
   "id": "f264584b-fc26-487e-ade1-add371e6ad5c",
   "metadata": {},
   "source": [
    "# Discovery of System 1"
   ]
  },
  {
   "cell_type": "code",
   "execution_count": 12,
   "id": "2996789c-f3bb-449a-be72-03021a5fd489",
   "metadata": {},
   "outputs": [],
   "source": [
    "# Create directory for results\n",
    "results_dir = \"PDE-1\"\n",
    "os.makedirs(results_dir, exist_ok=True)"
   ]
  },
  {
   "cell_type": "code",
   "execution_count": 14,
   "id": "132f69b9-a395-491f-980d-b3918a9e2617",
   "metadata": {},
   "outputs": [
    {
     "name": "stdout",
     "output_type": "stream",
     "text": [
      "Optimal tolerance: 2.5000000000000008e-05\n",
      "\n",
      "Identified PDE for File 1:\n"
     ]
    },
    {
     "data": {
      "text/latex": [
       "$\\displaystyle u_{t} = -1.01491 \\; uu_{x} +0.09949 \\; u_{xx}$"
      ],
      "text/plain": [
       "<IPython.core.display.Math object>"
      ]
     },
     "metadata": {},
     "output_type": "display_data"
    },
    {
     "name": "stdout",
     "output_type": "stream",
     "text": [
      "u_t =\n",
      "    -1.01491   uu_{x}\n",
      "     0.09949   u_{xx}\n"
     ]
    }
   ],
   "source": [
    "# 1. Load Data\n",
    "t1 = np.load(\"data/1/t.npy\")\n",
    "x1 = np.load(\"data/1/x.npy\")\n",
    "u1 = np.load(\"data/1/u.npy\")\n",
    "\n",
    "# 2. Normalize Data\n",
    "u1_norm = u1 / np.max(np.abs(u1))\n",
    "\n",
    "# 3. Compute Grid Spacing\n",
    "dx1 = np.mean(np.diff(x1[:, 0]))  # Assuming uniform spacing in x\n",
    "dt1 = np.mean(np.diff(t1[0, :]))  # Assuming uniform spacing in t\n",
    "\n",
    "# 4. Build Linear System\n",
    "D = 3  # Maximum derivative order\n",
    "P = 3  # Maximum polynomial degree\n",
    "ut1, Theta1, rhs_description1 = build_linear_system(\n",
    "    u1_norm, \n",
    "    dt=dt1, \n",
    "    dx=dx1, \n",
    "    D=D, \n",
    "    P=P, \n",
    "    time_diff='FD', \n",
    "    space_diff='FD'\n",
    ")\n",
    "\n",
    "# 5. Sparse Regression\n",
    "lambda_reg = 1e-5  # Regularization parameter\n",
    "tolerance = 1e-6   # Sparsity tolerance\n",
    "xi1 = TrainSTRidge(Theta1, ut1, lam=lambda_reg, d_tol=tolerance)\n",
    "\n",
    "# 6. Output the Identified PDE\n",
    "print(\"\\nIdentified PDE for File 1:\")\n",
    "print_pde(xi1, rhs_description1, ut=\"u_t\")"
   ]
  },
  {
   "cell_type": "code",
   "execution_count": 15,
   "id": "a3c35061-83a6-46e4-ab93-c0d5402bb60a",
   "metadata": {},
   "outputs": [
    {
     "data": {
      "text/plain": [
       "((25856, 1), (25856, 16), 16, (16, 1))"
      ]
     },
     "execution_count": 15,
     "metadata": {},
     "output_type": "execute_result"
    }
   ],
   "source": [
    "ut1.shape, Theta1.shape, len(rhs_description1), xi1.shape"
   ]
  },
  {
   "cell_type": "code",
   "execution_count": 16,
   "id": "5f29b29e-bd65-4862-bb11-de09f7855140",
   "metadata": {},
   "outputs": [
    {
     "name": "stdout",
     "output_type": "stream",
     "text": [
      "Size of Library D: 16\n"
     ]
    }
   ],
   "source": [
    "# Size of D is directly reflected by the number of columns in the feature matrix Θ:\n",
    "print(\"Size of Library D:\", Theta1.shape[1])"
   ]
  },
  {
   "cell_type": "code",
   "execution_count": 17,
   "id": "39d33cdb-27cb-4e71-8399-69c873c47bd2",
   "metadata": {},
   "outputs": [
    {
     "name": "stdout",
     "output_type": "stream",
     "text": [
      "Mean Squared Error (MSE): (3.3645527048940624e-07+0j)\n",
      "Relative Error: 0.00878118607886049\n"
     ]
    }
   ],
   "source": [
    "# Step 1: Compute predicted u_t\n",
    "u_t_pred = Theta1 @ xi1\n",
    "\n",
    "# Step 2: Compute residual\n",
    "residual = ut1 - u_t_pred\n",
    "\n",
    "# Step 3: Compute MSE\n",
    "mse = np.mean(residual**2)\n",
    "\n",
    "# Step 4: Compute relative error\n",
    "relative_error = np.linalg.norm(residual) / np.linalg.norm(ut1)\n",
    "\n",
    "print(\"Mean Squared Error (MSE):\", mse)\n",
    "print(\"Relative Error:\", relative_error)"
   ]
  },
  {
   "cell_type": "code",
   "execution_count": 18,
   "id": "b52faffb-dbb1-4ef7-aaec-a7d22418e4e1",
   "metadata": {},
   "outputs": [
    {
     "data": {
      "text/plain": [
       "((25856, 1), (25856, 1))"
      ]
     },
     "execution_count": 18,
     "metadata": {},
     "output_type": "execute_result"
    }
   ],
   "source": [
    "ut1.shape, u_t_pred.shape"
   ]
  },
  {
   "cell_type": "code",
   "execution_count": 23,
   "id": "9c1a9d3c-1b33-49b8-bbd9-7b77095b0f9a",
   "metadata": {},
   "outputs": [
    {
     "data": {
      "text/plain": [
       "((25856, 1), (25856, 1))"
      ]
     },
     "execution_count": 23,
     "metadata": {},
     "output_type": "execute_result"
    }
   ],
   "source": [
    "ut1.shape, u_t_pred.shape"
   ]
  },
  {
   "cell_type": "code",
   "execution_count": 26,
   "id": "b56ba483-9d83-4511-8ca7-e7ef87dc4f0f",
   "metadata": {},
   "outputs": [
    {
     "data": {
      "text/plain": [
       "(256, 101)"
      ]
     },
     "execution_count": 26,
     "metadata": {},
     "output_type": "execute_result"
    }
   ],
   "source": [
    "u1.shape"
   ]
  },
  {
   "cell_type": "code",
   "execution_count": 28,
   "id": "69b175b4-4914-4766-8d40-dba3b4e97d84",
   "metadata": {},
   "outputs": [],
   "source": [
    "nx, nt = 256, 101\n",
    "\n",
    "# Reshape the 1D arrays into 2D arrays using column-major order\n",
    "ut1_reshaped = ut1.reshape((nx, nt), order='F')\n",
    "u_t_pred_reshaped = u_t_pred.reshape((nx, nt), order='F')\n",
    "abs_error = np.abs(ut1_reshaped - u_t_pred_reshaped)\n",
    "\n",
    "# A spatial grid is extracted from the first column of x1 and a temporal grid from the first row of t1.\n",
    "x_grid = x1[:, 0]\n",
    "t_grid = t1[0, :]"
   ]
  },
  {
   "cell_type": "code",
   "execution_count": 30,
   "id": "89abf1b8-d50d-4b4c-91b9-02055f19894c",
   "metadata": {},
   "outputs": [
    {
     "name": "stdout",
     "output_type": "stream",
     "text": [
      "Heatmap comparison saved as 'PDE-1/pde_1_ut_heatmap_comparison.png'\n"
     ]
    }
   ],
   "source": [
    "heatmap_save_path = os.path.join(results_dir, \"pde_1_ut_heatmap_comparison.png\")\n",
    "plot_comparison_heatmaps(ut1_reshaped, u_t_pred_reshaped, abs_error, x_grid, t_grid, heatmap_save_path)"
   ]
  },
  {
   "cell_type": "code",
   "execution_count": 31,
   "id": "c13bf932-8083-4d6e-bf7a-08081eaa94f6",
   "metadata": {},
   "outputs": [
    {
     "name": "stdout",
     "output_type": "stream",
     "text": [
      "Animation saved as 'PDE-1/pde_1_spatiotemporal_animation_comparison.gif'\n"
     ]
    }
   ],
   "source": [
    "# Save the animation of the spatiotemporal comparison\n",
    "pde_string = get_pde_string(xi1, rhs_description1, ut='u_t', precision=3, threshold=8e-2)\n",
    "animate_save_path = os.path.join(results_dir, \"pde_1_spatiotemporal_animation_comparison.gif\")\n",
    "animate_comparison(x_grid, t_grid, ut1_reshaped, u_t_pred_reshaped, pde_string, animate_save_path)"
   ]
  },
  {
   "cell_type": "code",
   "execution_count": 32,
   "id": "5ba6e86d-fab4-4b42-9c06-2052f365eda8",
   "metadata": {},
   "outputs": [
    {
     "name": "stdout",
     "output_type": "stream",
     "text": [
      "Term coefficients plot saved as 'PDE-1/pde_1_bar_approximated_terms.png'\n"
     ]
    }
   ],
   "source": [
    "plot_pde_terms(rhs_description1, xi1, 'PDE-1/pde_1_bar_approximated_terms.png')"
   ]
  },
  {
   "cell_type": "code",
   "execution_count": 33,
   "id": "0020db01-c05b-46f1-b96d-d42e6aee57d7",
   "metadata": {},
   "outputs": [
    {
     "name": "stdout",
     "output_type": "stream",
     "text": [
      "Candidate terms plot saved as 'PDE-1/pde_1_candidate_terms.png'\n"
     ]
    }
   ],
   "source": [
    "n, m = u1.shape[0], u1.shape[1]\n",
    "plot_candidate_terms(Theta1, rhs_description1, n, m, x_grid, t_grid, 'PDE-1/pde_1_candidate_terms.png')"
   ]
  },
  {
   "cell_type": "code",
   "execution_count": 34,
   "id": "3a0a29c5-2ff0-4fac-995a-d6d9ce0f54a3",
   "metadata": {},
   "outputs": [
    {
     "name": "stdout",
     "output_type": "stream",
     "text": [
      "Scatter plot over time plot saved as 'PDE-1/pde_1_scatter_true_vs_predicted_ut.png'\n"
     ]
    }
   ],
   "source": [
    "scatter_true_vs_pred(ut1, u_t_pred, \"PDE-1/pde_1_scatter_true_vs_predicted_ut.png\", minor_tick_length=2)"
   ]
  },
  {
   "cell_type": "code",
   "execution_count": 35,
   "id": "147f5ed2-ce9b-4925-8846-960d5e203a06",
   "metadata": {},
   "outputs": [
    {
     "name": "stdout",
     "output_type": "stream",
     "text": [
      "Residual over time plot saved as 'PDE-1/pde_1_residual_over_time.png'\n"
     ]
    }
   ],
   "source": [
    "# Compute predicted u_t from the sparse regression model\n",
    "u_t_pred_1 = Theta1 @ xi1\n",
    "\n",
    "# Reshape both the original u_t and predicted u_t into a 2D grid.\n",
    "# System 1 data have dimensions 256 x 101.\n",
    "ut1_reshaped = ut1.reshape((256, 101), order='F')\n",
    "u_t_pred_1_reshaped = u_t_pred_1.reshape((256, 101), order='F')\n",
    "\n",
    "# Extract 1D spatial and temporal grids from x1 and t1.\n",
    "# It is assumed that each column (or row) is constant.\n",
    "x1_grid = x1[:, 0]\n",
    "t1_grid = t1[0, :]\n",
    "\n",
    "# Define a path for saving the residual plot.\n",
    "residual_plot_path1 = os.path.join(\"PDE-1\", \"pde_1_residual_over_time.png\")\n",
    "os.makedirs(os.path.dirname(residual_plot_path1), exist_ok=True)\n",
    "\n",
    "# Plot the residual over time using the previously defined function.\n",
    "plot_residual_over_time(ut1_reshaped, u_t_pred_1_reshaped, t1_grid, residual_plot_path1)"
   ]
  },
  {
   "cell_type": "markdown",
   "id": "88f8e550-2fab-406d-9e85-f4cb6961abb4",
   "metadata": {},
   "source": [
    "---"
   ]
  },
  {
   "cell_type": "markdown",
   "id": "3d6ac12b-d5dc-45d9-b799-e78dc3ab0387",
   "metadata": {},
   "source": [
    "# Discovery of System 2"
   ]
  },
  {
   "cell_type": "code",
   "execution_count": 38,
   "id": "e1a28d36-42ff-4614-9c24-107801ebec64",
   "metadata": {},
   "outputs": [],
   "source": [
    "results_dir = \"PDE-2\"\n",
    "os.makedirs(results_dir, exist_ok=True)"
   ]
  },
  {
   "cell_type": "code",
   "execution_count": 40,
   "id": "408d0131-d783-454a-ad49-f246369cf646",
   "metadata": {},
   "outputs": [
    {
     "name": "stdout",
     "output_type": "stream",
     "text": [
      "File 2 Data Shapes:\n",
      "x: (512, 201), t: (512, 201), u: (512, 201)\n"
     ]
    }
   ],
   "source": [
    "# Load data for File 2\n",
    "t2 = np.load(\"data/2/t.npy\")\n",
    "x2 = np.load(\"data/2/x.npy\")\n",
    "u2 = np.load(\"data/2/u.npy\")\n",
    "\n",
    "print(\"File 2 Data Shapes:\")\n",
    "print(f\"x: {x2.shape}, t: {t2.shape}, u: {u2.shape}\")"
   ]
  },
  {
   "cell_type": "code",
   "execution_count": 41,
   "id": "d7a1807c-0ce7-49fb-a0d7-02b467adf090",
   "metadata": {},
   "outputs": [
    {
     "name": "stdout",
     "output_type": "stream",
     "text": [
      "dx: 0.1171875, dt: 0.10000000149011612\n"
     ]
    }
   ],
   "source": [
    "# Extract grid dimensions and compute grid spacing\n",
    "n2, m2 = u2.shape\n",
    "dt2 = np.mean(np.diff(t2, axis=1))  # Temporal grid spacing\n",
    "dx2 = np.mean(np.diff(x2, axis=0))  # Spatial grid spacing\n",
    "\n",
    "print(f\"dx: {dx2}, dt: {dt2}\")"
   ]
  },
  {
   "cell_type": "code",
   "execution_count": 42,
   "id": "e86b113c-66ab-488a-8c83-b75a16f40aab",
   "metadata": {},
   "outputs": [
    {
     "name": "stdout",
     "output_type": "stream",
     "text": [
      "Theta shape: (102912, 8), ut shape: (102912, 1)\n",
      "RHS Description:\n",
      "['', 'u', 'u_{x}', 'uu_{x}', 'u_{xx}', 'uu_{xx}', 'u_{xxx}', 'uu_{xxx}']\n"
     ]
    }
   ],
   "source": [
    "# Build the linear system\n",
    "D = 3  # Maximum derivative order\n",
    "P = 1  # Maximum polynomial order\n",
    "ut2, Theta2, rhs_description2 = build_linear_system(u2, dt2, dx2, D=D, P=P, time_diff=\"FD\", space_diff=\"FD\")\n",
    "\n",
    "print(f\"Theta shape: {Theta2.shape}, ut shape: {ut2.shape}\")\n",
    "print(\"RHS Description:\")\n",
    "print(rhs_description2)"
   ]
  },
  {
   "cell_type": "code",
   "execution_count": 43,
   "id": "ff3737ca-bca4-44b3-925e-6950bcd4c9ea",
   "metadata": {},
   "outputs": [
    {
     "name": "stdout",
     "output_type": "stream",
     "text": [
      "Optimal tolerance: 0\n",
      "Identified PDE for File 2:\n"
     ]
    },
    {
     "data": {
      "text/latex": [
       "$\\displaystyle u_{t} = -5.56656 \\; uu_{x} -0.88657 \\; u_{xxx} -0.10044 \\; uu_{xxx}$"
      ],
      "text/plain": [
       "<IPython.core.display.Math object>"
      ]
     },
     "metadata": {},
     "output_type": "display_data"
    },
    {
     "name": "stdout",
     "output_type": "stream",
     "text": [
      "u_t =\n",
      "    -5.56656   uu_{x}\n",
      "    -0.88657   u_{xxx}\n",
      "    -0.10044   uu_{xxx}\n"
     ]
    }
   ],
   "source": [
    "# Train the sparse regression model\n",
    "lambda_reg = 1e-5  # Regularization parameter\n",
    "tolerance = 1e-4  # Sparsity tolerance\n",
    "xi2 = TrainSTRidge(Theta2, ut2, lam=lambda_reg, d_tol=tolerance)\n",
    "\n",
    "# Print the identified PDE\n",
    "print(\"Identified PDE for File 2:\")\n",
    "print_pde(xi2, rhs_description2)"
   ]
  },
  {
   "cell_type": "code",
   "execution_count": 44,
   "id": "e9b31bed-0b9c-466b-80a8-59edca3c9210",
   "metadata": {},
   "outputs": [
    {
     "data": {
      "text/plain": [
       "(102912, 8)"
      ]
     },
     "execution_count": 44,
     "metadata": {},
     "output_type": "execute_result"
    }
   ],
   "source": [
    "Theta2.shape"
   ]
  },
  {
   "cell_type": "code",
   "execution_count": 45,
   "id": "d04e6eda-5aed-45cc-9d6e-81c22c7dcc5a",
   "metadata": {},
   "outputs": [
    {
     "name": "stdout",
     "output_type": "stream",
     "text": [
      "Size of Library D: 8\n"
     ]
    }
   ],
   "source": [
    "print(\"Size of Library D:\", Theta2.shape[1])"
   ]
  },
  {
   "cell_type": "code",
   "execution_count": 46,
   "id": "72494931-80d8-49c3-b36b-cdf3a5946101",
   "metadata": {},
   "outputs": [
    {
     "name": "stdout",
     "output_type": "stream",
     "text": [
      "Mean Squared Error (MSE) for File 2: (6.8853947e-06+0j)\n",
      "Mean Absolute Error (MAE) for File 2: 0.0017760391\n",
      "Relative Average L2 Error for File 2: 0.054540124\n"
     ]
    }
   ],
   "source": [
    "# Compute predicted u_t\n",
    "u_t_pred2 = Theta2 @ xi2\n",
    "\n",
    "# Reshape for visualization\n",
    "u_t_true_reshaped2 = np.real(ut2).reshape(n2, m2)\n",
    "u_t_pred_reshaped2 = np.real(u_t_pred2).reshape(n2, m2)\n",
    "\n",
    "\n",
    "# Mean Squared Error (MSE)\n",
    "mse2 = np.mean((ut2 - u_t_pred2)**2)\n",
    "\n",
    "# Mean Absolute Error (MAE)\n",
    "mae2 = np.mean(np.abs(ut2 - u_t_pred2))\n",
    "\n",
    "# Relative Average L2 Error\n",
    "relative_l2_error2 = np.linalg.norm(ut2 - u_t_pred2) / np.linalg.norm(ut2)\n",
    "\n",
    "# Print the errors\n",
    "print(\"Mean Squared Error (MSE) for File 2:\", mse2)\n",
    "print(\"Mean Absolute Error (MAE) for File 2:\", mae2)\n",
    "print(\"Relative Average L2 Error for File 2:\", relative_l2_error2)"
   ]
  },
  {
   "cell_type": "code",
   "execution_count": 47,
   "id": "63330c24-c656-4aa8-8d4e-c004ef83b055",
   "metadata": {},
   "outputs": [
    {
     "name": "stdout",
     "output_type": "stream",
     "text": [
      "Term coefficients plot saved as 'PDE-2/pde_2_bar_approximated_terms.png'\n"
     ]
    }
   ],
   "source": [
    "plot_pde_terms(rhs_description2, xi2, 'PDE-2/pde_2_bar_approximated_terms.png')"
   ]
  },
  {
   "cell_type": "code",
   "execution_count": 48,
   "id": "205858f5-d674-47bf-8119-60c97915d4ab",
   "metadata": {},
   "outputs": [],
   "source": [
    "# Compute the predicted u_t for system 2\n",
    "u_t_pred_2 = Theta2 @ xi2\n",
    "\n",
    "# Reshape u_t arrays to 2D grids (512 x 201) using Fortran order\n",
    "ut2_reshaped = ut2.reshape((512, 201), order='F')\n",
    "u_t_pred_2_reshaped = u_t_pred_2.reshape((512, 201), order='F')\n",
    "\n",
    "# For the spatial and temporal axes, extract 1D grids.\n",
    "# We assume that each column (or row) in x2 and t2 is constant.\n",
    "x2_grid = x2[:, 0]\n",
    "t2_grid = t2[0, :]"
   ]
  },
  {
   "cell_type": "code",
   "execution_count": 49,
   "id": "6e301395-0181-42fb-8d2b-0ff33e4d1585",
   "metadata": {},
   "outputs": [
    {
     "name": "stdout",
     "output_type": "stream",
     "text": [
      "Heatmap comparison saved as 'PDE-2/pde_2_ut_heatmap_comparison.png'\n",
      "Animation saved as 'PDE-2/pde_2_spatiotemporal_animation_comparison.gif'\n",
      "Term coefficients plot saved as 'PDE-2/pde_2_bar_approximated_terms.png'\n",
      "Candidate terms plot saved as 'PDE-2/pde_2_candidate_terms.png'\n"
     ]
    }
   ],
   "source": [
    "results_dir = \"PDE-2\"\n",
    "\n",
    "# --- 1. Heatmap Comparison ---\n",
    "os.makedirs(results_dir, exist_ok=True)\n",
    "heatmap_save_path = os.path.join(results_dir, \"pde_2_ut_heatmap_comparison.png\")\n",
    "\n",
    "# Plot the comparison heatmaps for u_t:\n",
    "plot_comparison_heatmaps(ut2_reshaped, u_t_pred_2_reshaped, \n",
    "                         np.abs(ut2_reshaped - u_t_pred_2_reshaped),\n",
    "                         x2_grid, t2_grid, heatmap_save_path)\n",
    "\n",
    "# --- 2. Animation Comparison ---\n",
    "pde_string_2 = get_pde_string(xi2, rhs_description2, ut='u_t', precision=3, threshold=8e-2)\n",
    "animate_save_path = os.path.join(results_dir, \"pde_2_spatiotemporal_animation_comparison.gif\")\n",
    "animate_comparison(x2_grid, t2_grid, ut2_reshaped, u_t_pred_2_reshaped, pde_string_2, animate_save_path)\n",
    "\n",
    "# --- 3. PDE Term Coefficients ---\n",
    "os.makedirs(results_dir, exist_ok=True)\n",
    "terms_save_path = os.path.join(results_dir, \"pde_2_bar_approximated_terms.png\")\n",
    "plot_pde_terms(rhs_description2, xi2, terms_save_path)\n",
    "\n",
    "# --- 4. Candidate Terms Heatmaps ---\n",
    "os.makedirs(results_dir, exist_ok=True)\n",
    "candidate_save_path = os.path.join(results_dir, \"pde_2_candidate_terms.png\")\n",
    "plot_candidate_terms(Theta2, rhs_description2, n2, m2, x2_grid, t2_grid, candidate_save_path)\n"
   ]
  },
  {
   "cell_type": "code",
   "execution_count": 50,
   "id": "906b9c23-8045-420c-b840-8163050c55ab",
   "metadata": {},
   "outputs": [
    {
     "name": "stdout",
     "output_type": "stream",
     "text": [
      "Scatter plot over time plot saved as 'PDE-2/pde_2_scatter_true_vs_predicted_ut.png'\n"
     ]
    }
   ],
   "source": [
    "scatter_true_vs_pred(ut2, u_t_pred_2, \"PDE-2/pde_2_scatter_true_vs_predicted_ut.png\", minor_tick_length=4)"
   ]
  },
  {
   "cell_type": "code",
   "execution_count": 51,
   "id": "3354d26f-8705-4b17-8d34-b6afef1728c3",
   "metadata": {},
   "outputs": [
    {
     "name": "stdout",
     "output_type": "stream",
     "text": [
      "Residual over time plot saved as 'PDE-2/pde_2_residual_over_time.png'\n"
     ]
    }
   ],
   "source": [
    "residual_plot_path = os.path.join(\"PDE-2\", \"pde_2_residual_over_time.png\")\n",
    "plot_residual_over_time(ut2_reshaped, u_t_pred_2_reshaped, t2_grid, residual_plot_path)"
   ]
  },
  {
   "cell_type": "markdown",
   "id": "a498b4a6-bcca-49fe-aab4-508d7dff3f2c",
   "metadata": {},
   "source": [
    "---"
   ]
  },
  {
   "cell_type": "markdown",
   "id": "cd7fcc9c-3f9f-401d-afe8-716244e25b99",
   "metadata": {},
   "source": [
    "# Discovery of System 3"
   ]
  },
  {
   "cell_type": "markdown",
   "id": "a11e68e2-1c42-4387-8bfa-33e682ea0bf8",
   "metadata": {},
   "source": [
    "## Original:"
   ]
  },
  {
   "cell_type": "code",
   "execution_count": 18,
   "id": "7b63680b-d5e4-4081-8d32-173212c064fd",
   "metadata": {},
   "outputs": [
    {
     "name": "stdout",
     "output_type": "stream",
     "text": [
      "Original File 3 Data Shapes:\n",
      "x: (256, 256, 201), y: (256, 256, 201), t: (256, 256, 201), u: (256, 256, 201), v: (256, 256, 201)\n",
      "Original dx: 0.078125, dy: 0.078125, dt: 0.05000000074505806\n",
      "Original U_t3 shape: (13172736, 2), Theta3 shape: (13172736, 10)\n",
      "RHS Description: ['', 'u', 'v', 'u^2', 'v^2', 'uv', 'u_x', 'u_y', 'v_x', 'v_y']\n"
     ]
    }
   ],
   "source": [
    "# Load data for File 3\n",
    "t3 = np.load(data_path_3 + \"t.npy\")\n",
    "x3 = np.load(data_path_3 + \"x.npy\")\n",
    "y3 = np.load(data_path_3 + \"y.npy\")\n",
    "u3 = np.load(data_path_3 + \"u.npy\")  # u(x, y, t)\n",
    "v3 = np.load(data_path_3 + \"v.npy\")  # v(x, y, t)\n",
    "\n",
    "# Print original shapes\n",
    "print(\"Original File 3 Data Shapes:\")\n",
    "print(f\"x: {x3.shape}, y: {y3.shape}, t: {t3.shape}, u: {u3.shape}, v: {v3.shape}\")\n",
    "\n",
    "# Compute grid spacings from the original arrays (assuming the grid is uniform and constant along other dimensions)\n",
    "dx3 = np.mean(np.diff(x3[:, 0, 0]))\n",
    "dy3 = np.mean(np.diff(y3[0, :, 0]))\n",
    "dt3 = np.mean(np.diff(t3[0, 0, :]))\n",
    "print(f\"Original dx: {dx3}, dy: {dy3}, dt: {dt3}\")\n",
    "\n",
    "# Build the linear system for the full (non-downsampled) data\n",
    "U_t3, Theta3, rhs_description3 = build_linear_system_2D(u3, v3, dt3, dx3, dy3, D=3, P=3, time_diff=\"FD\", space_diff=\"FD\")\n",
    "print(f\"Original U_t3 shape: {U_t3.shape}, Theta3 shape: {Theta3.shape}\")\n",
    "print(\"RHS Description:\", rhs_description3)\n"
   ]
  },
  {
   "cell_type": "markdown",
   "id": "9bda1edf-0df7-45ad-86b4-11f3483013bb",
   "metadata": {},
   "source": [
    "## Downsampling:"
   ]
  },
  {
   "cell_type": "code",
   "execution_count": 20,
   "id": "b0520b83-4b60-4caa-841b-fd148f17ff3b",
   "metadata": {},
   "outputs": [
    {
     "name": "stdout",
     "output_type": "stream",
     "text": [
      "Downsampled Data Shapes:\n",
      "x: (64, 64, 51), y: (64, 64, 51), t: (64, 64, 51), u: (64, 64, 51), v: (64, 64, 51)\n",
      "Downsampled dx: 0.3125, dy: 0.3125, dt: 0.20000000298023224\n",
      "Downsampled U_t3 shape: (208896, 2), Theta3 shape: (208896, 10)\n",
      "RHS Description: ['', 'u', 'v', 'u^2', 'v^2', 'uv', 'u_x', 'u_y', 'v_x', 'v_y']\n",
      "Xi3 shape (downsampled): (10, 2)\n"
     ]
    }
   ],
   "source": [
    "# Set the downsampling factor (e.g., 4)\n",
    "ds_factor = 4\n",
    "\n",
    "# Downsample u3, v3, x3, y3, t3\n",
    "u3_ds = downsample_3d(u3, ds_factor)\n",
    "v3_ds = downsample_3d(v3, ds_factor)\n",
    "x3_ds = downsample_3d(x3, ds_factor)\n",
    "y3_ds = downsample_3d(y3, ds_factor)\n",
    "t3_ds = downsample_3d(t3, ds_factor)\n",
    "\n",
    "print(\"Downsampled Data Shapes:\")\n",
    "print(f\"x: {x3_ds.shape}, y: {y3_ds.shape}, t: {t3_ds.shape}, u: {u3_ds.shape}, v: {v3_ds.shape}\")\n",
    "\n",
    "# Recompute grid spacings on the downsampled grid:\n",
    "dx3_ds = np.mean(np.diff(x3_ds[:,0,0]))\n",
    "dy3_ds = np.mean(np.diff(y3_ds[0,:,0]))\n",
    "dt3_ds = np.mean(np.diff(t3_ds[0,0,:]))\n",
    "print(f\"Downsampled dx: {dx3_ds}, dy: {dy3_ds}, dt: {dt3_ds}\")\n",
    "\n",
    "# Optionally, normalize the downsampled fields\n",
    "u3_ds_norm = u3_ds / np.max(np.abs(u3_ds))\n",
    "v3_ds_norm = v3_ds / np.max(np.abs(v3_ds))\n",
    "\n",
    "# Build the linear system on the downsampled data\n",
    "U_t3_ds, Theta3_ds, rhs_description3_ds = build_linear_system_2D(u3_ds_norm, v3_ds_norm, \n",
    "                                                                 dt3_ds, dx3_ds, dy3_ds, \n",
    "                                                                 D=3, P=3, time_diff=\"FD\", space_diff=\"FD\")\n",
    "print(f\"Downsampled U_t3 shape: {U_t3_ds.shape}, Theta3 shape: {Theta3_ds.shape}\")\n",
    "print(\"RHS Description:\", rhs_description3_ds)\n",
    "\n",
    "# Now, training the sparse regression on Theta3_ds and U_t3_ds will be much faster.\n",
    "lambda_reg = 1e-5\n",
    "tolerance = 1e-5\n",
    "Xi3_ds = TrainSTRidge_multioutput(Theta3_ds, U_t3_ds, lam=lambda_reg, d_tol=tolerance)\n",
    "print(\"Xi3 shape (downsampled):\", Xi3_ds.shape)"
   ]
  },
  {
   "cell_type": "code",
   "execution_count": 22,
   "id": "297f9dc7-7674-41e4-8911-34f463dd7c7f",
   "metadata": {},
   "outputs": [
    {
     "name": "stdout",
     "output_type": "stream",
     "text": [
      "Identified PDE for File 3 (u_t equation, downsampled):\n"
     ]
    },
    {
     "data": {
      "text/latex": [
       "$\\displaystyle u_{t} = +0.88532 \\; v$"
      ],
      "text/plain": [
       "<IPython.core.display.Math object>"
      ]
     },
     "metadata": {},
     "output_type": "display_data"
    },
    {
     "name": "stdout",
     "output_type": "stream",
     "text": [
      "u_t =\n",
      "     0.88532   v\n",
      "Identified PDE for File 3 (v_t equation, downsampled):\n"
     ]
    },
    {
     "data": {
      "text/latex": [
       "$\\displaystyle v_t = -0.88544 \\; u$"
      ],
      "text/plain": [
       "<IPython.core.display.Math object>"
      ]
     },
     "metadata": {},
     "output_type": "display_data"
    },
    {
     "name": "stdout",
     "output_type": "stream",
     "text": [
      "v_t =\n",
      "    -0.88544   u\n",
      "\n",
      "Relative L2 Error for u_t (downsampled): 1.50e-01\n",
      "Relative L2 Error for v_t (downsampled): 1.51e-01\n",
      "MSE for u_t (downsampled): 8.06e-03\n",
      "MSE for v_t (downsampled): 8.11e-03\n"
     ]
    }
   ],
   "source": [
    "# 1. Print the identified PDEs for the two equations using the downsampled data\n",
    "print(\"Identified PDE for File 3 (u_t equation, downsampled):\")\n",
    "print_pde(Xi3_ds[:, 0:1], rhs_description3_ds, ut=\"u_t\")\n",
    "print(\"Identified PDE for File 3 (v_t equation, downsampled):\")\n",
    "print_pde(Xi3_ds[:, 1:2], rhs_description3_ds, ut=\"v_t\")\n",
    "\n",
    "# 2. Compute predictions on the downsampled candidate matrix\n",
    "U_t3_ds_pred = Theta3_ds @ Xi3_ds  # shape: (N_ds, 2), where N_ds is the total number of downsampled samples\n",
    "\n",
    "# 3. Reshape predictions back into the downsampled grid\n",
    "# For File 3, original shape was (256,256,201); with downsampling factor 4, new shape is (64, 64, nt_ds)\n",
    "nx_ds, ny_ds, nt_ds = u3_ds.shape  # e.g., (64, 64, 50) if 201/4 ≈ 50\n",
    "u_t3_ds_pred = U_t3_ds_pred[:, 0].reshape((nx_ds, ny_ds, nt_ds), order='F')\n",
    "v_t3_ds_pred = U_t3_ds_pred[:, 1].reshape((nx_ds, ny_ds, nt_ds), order='F')\n",
    "\n",
    "# 4. Compute the true time derivatives on the downsampled data (using the same finite difference method)\n",
    "u_t3_ds_true = np.gradient(u3_ds_norm, dt3_ds, axis=2)\n",
    "v_t3_ds_true = np.gradient(v3_ds_norm, dt3_ds, axis=2)\n",
    "\n",
    "# 5. Compute error metrics:\n",
    "# L2 error\n",
    "err_u = np.linalg.norm(u_t3_ds_true - u_t3_ds_pred) / np.linalg.norm(u_t3_ds_true)\n",
    "err_v = np.linalg.norm(v_t3_ds_true - v_t3_ds_pred) / np.linalg.norm(v_t3_ds_true)\n",
    "# Compute Mean Squared Error (MSE)\n",
    "mse_u = np.mean((u_t3_ds_true - u_t3_ds_pred)**2)\n",
    "mse_v = np.mean((v_t3_ds_true - v_t3_ds_pred)**2)\n",
    "print()\n",
    "print(f\"Relative L2 Error for u_t (downsampled): {err_u:.2e}\")\n",
    "print(f\"Relative L2 Error for v_t (downsampled): {err_v:.2e}\")\n",
    "print(f\"MSE for u_t (downsampled): {mse_u:.2e}\")\n",
    "print(f\"MSE for v_t (downsampled): {mse_v:.2e}\")"
   ]
  },
  {
   "cell_type": "code",
   "execution_count": null,
   "id": "30796a8a-664e-44e3-ae99-c037299e4ff8",
   "metadata": {},
   "outputs": [],
   "source": [
    "results_dir = \"PDE-3\"\n",
    "\n",
    "# Extract 1D grids from the downsampled arrays.\n",
    "# We assume the grid values are constant along the other dimensions.\n",
    "x3_ds_grid = x3_ds[:, 0, 0]   # 1D spatial grid for x, shape (nx_ds,)\n",
    "y3_ds_grid = y3_ds[0, :, 0]   # 1D spatial grid for y, shape (ny_ds,)\n",
    "t3_ds_grid = t3_ds[0, 0, :]   # 1D time grid, shape (nt_ds,)\n",
    "\n",
    "# Animation for u_t using the downsampled data:\n",
    "animate_comparison_heatmaps_2D(u_t3_ds_true, u_t3_ds_pred, \n",
    "                               x3_ds_grid, y3_ds_grid, t3_ds_grid, \n",
    "                               \"u_t\", results_dir, \"jet\")"
   ]
  },
  {
   "cell_type": "code",
   "execution_count": null,
   "id": "2ef993c3-119f-427f-9f33-ad8212fdc3b4",
   "metadata": {},
   "outputs": [],
   "source": [
    "# Animation for v_t using the downsampled data:\n",
    "animate_comparison_heatmaps_2D(v_t3_ds_true, v_t3_ds_pred, \n",
    "                               x3_ds_grid, y3_ds_grid, t3_ds_grid, \n",
    "                               \"v_t\", results_dir, \"jet\")"
   ]
  },
  {
   "cell_type": "code",
   "execution_count": 25,
   "id": "2bc89348-fd4d-4bbc-b56e-fdbd758e12e7",
   "metadata": {},
   "outputs": [
    {
     "name": "stdout",
     "output_type": "stream",
     "text": [
      "Term coefficients for u_t plot saved as 'PDE-3/pde_3_bar_terms_ut.png'\n",
      "Term coefficients for v_t plot saved as 'PDE-3/pde_3_bar_terms_vt.png'\n"
     ]
    }
   ],
   "source": [
    "os.makedirs(results_dir, exist_ok=True)\n",
    "\n",
    "plot_pde_terms_multioutput(rhs_description3_ds, Xi3_ds,\n",
    "                           os.path.join(results_dir, \"pde_3_bar_terms_ut.png\"),\n",
    "                           os.path.join(results_dir, \"pde_3_bar_terms_vt.png\"))"
   ]
  },
  {
   "cell_type": "code",
   "execution_count": 27,
   "id": "00887df1-9bb6-4c4c-aee4-22ab2bdc4b24",
   "metadata": {},
   "outputs": [
    {
     "name": "stdout",
     "output_type": "stream",
     "text": [
      "Candidate terms plot saved as 'PDE-3/pde_3_candidate_terms_downsampled.png'\n"
     ]
    }
   ],
   "source": [
    "# Extract 1D grids for x and t from downsampled x3_ds and t3_ds:\n",
    "x3_ds_grid = x3_ds[:, 0, 0]    # shape (nx_ds,)\n",
    "t3_ds_grid = t3_ds[0, 0, :]    # shape (nt_ds,)\n",
    "\n",
    "# Use the middle index for y:\n",
    "y_index = ny_ds // 2\n",
    "\n",
    "# Save candidate terms plot for File 3\n",
    "save_path = os.path.join(\"PDE-3\", \"pde_3_candidate_terms_downsampled.png\")\n",
    "os.makedirs(\"PDE-3\", exist_ok=True)\n",
    "plot_candidate_terms_PDE3(Theta3_ds, rhs_description3_ds, nx_ds, ny_ds, nt_ds, \n",
    "                          x3_ds_grid, t3_ds_grid, y_index, save_path)"
   ]
  },
  {
   "cell_type": "code",
   "execution_count": 29,
   "id": "0b1aff0c-bf02-4e5d-96d8-c445b59b37d4",
   "metadata": {},
   "outputs": [
    {
     "name": "stdout",
     "output_type": "stream",
     "text": [
      "Candidate terms plot saved as 'PDE-3/pde_3_candidate_terms.png'\n"
     ]
    }
   ],
   "source": [
    "nx, ny, nt = u3.shape  # For File 3: (256, 256, 201)\n",
    "x3_grid = x3[:, 0, 0]   # 1D grid for x, length 256\n",
    "t3_grid = t3[0, 0, :]   # 1D grid for t, length 201\n",
    "\n",
    "# Choose a y-index to fix (for example, the middle index)\n",
    "y_index = ny // 2  # 128 if ny is 256\n",
    "\n",
    "# Set a save path for the candidate terms figure for the full data.\n",
    "save_path_full = os.path.join(\"PDE-3\", \"pde_3_candidate_terms.png\")\n",
    "os.makedirs(\"PDE-3\", exist_ok=True)\n",
    "\n",
    "# Plot candidate terms using the full (non-downsampled) candidate matrix Theta3.\n",
    "plot_candidate_terms_PDE3(Theta3, rhs_description3, nx, ny, nt, x3_grid, t3_grid, y_index, save_path_full)"
   ]
  },
  {
   "cell_type": "code",
   "execution_count": 31,
   "id": "44c35765-94fb-40cc-9b3d-8823f7a7d120",
   "metadata": {},
   "outputs": [
    {
     "name": "stdout",
     "output_type": "stream",
     "text": [
      "Spatial candidate terms plot saved as 'PDE-3/pde_3_candidate_terms_spatial_full.png'\n"
     ]
    }
   ],
   "source": [
    "# For the full data:\n",
    "nx, ny, nt = u3.shape  # e.g. (256, 256, 201)\n",
    "x3_grid = x3[:, 0, 0]\n",
    "y3_grid = y3[0, :, 0]\n",
    "t_index = nt // 2\n",
    "\n",
    "save_path = os.path.join(\"PDE-3\", \"pde_3_candidate_terms_spatial_full.png\")\n",
    "os.makedirs(\"PDE-3\", exist_ok=True)\n",
    "plot_candidate_terms_spatial(Theta3, rhs_description3, nx, ny, nt, x3_grid, y3_grid, t_index, save_path)"
   ]
  },
  {
   "cell_type": "code",
   "execution_count": 33,
   "id": "02f89a1a-aeb1-492e-b665-4068ae3cc068",
   "metadata": {},
   "outputs": [
    {
     "name": "stdout",
     "output_type": "stream",
     "text": [
      "Residual over time plot for u_t saved as 'PDE-3/pde_3_residual_over_time_ut.png'\n",
      "Residual over time plot for v_t saved as 'PDE-3/pde_3_residual_over_time_vt.png'\n"
     ]
    }
   ],
   "source": [
    "# Plot residual over time for u_t (downsampled)\n",
    "residual_plot_path_ut = os.path.join(results_dir, \"pde_3_residual_over_time_ut.png\")\n",
    "plot_residual_over_time_2D(u_t3_ds_true, u_t3_ds_pred, t3_ds_grid, residual_plot_path_ut, variable_label=\"u_t\")\n",
    "\n",
    "# Plot residual over time for v_t (downsampled)\n",
    "residual_plot_path_vt = os.path.join(results_dir, \"pde_3_residual_over_time_vt.png\")\n",
    "plot_residual_over_time_2D(v_t3_ds_true, v_t3_ds_pred, t3_ds_grid, residual_plot_path_vt, variable_label=\"v_t\")\n"
   ]
  },
  {
   "cell_type": "code",
   "execution_count": null,
   "id": "1e08a3c3-e81d-4f5a-8578-09e622858e0c",
   "metadata": {},
   "outputs": [],
   "source": [
    "# Call the function for the PDE-3 u_t plot\n",
    "scatter_true_vs_pred_with_footnote(\n",
    "    true=u_t3_ds_true,\n",
    "    pred=u_t3_ds_pred,\n",
    "    xlabel=\"True $u_t$\",\n",
    "    ylabel=\"Reconstructed $u_t$\",\n",
    "    title=\"True vs Reconstructed $u_t$ | PDE-3\",\n",
    "    file_name=\"PDE-3/pde_3_scatter_true_vs_predicted_ut.png\",\n",
    "    minor_tick_length=4,\n",
    "    footnote=\"* All spatial and temporal points pooled\"\n",
    ")\n",
    "\n",
    "# Call the function for the PDE-3 v_t plot\n",
    "scatter_true_vs_pred_with_footnote(\n",
    "    true=v_t3_ds_true,\n",
    "    pred=v_t3_ds_pred,\n",
    "    xlabel=\"True $v_t$\",\n",
    "    ylabel=\"Reconstructed $v_t$\",\n",
    "    title=\"True vs Reconstructed $v_t$ | PDE-3\",\n",
    "    file_name=\"PDE-3/pde_3_scatter_true_vs_predicted_vt.png\",\n",
    "    minor_tick_length=4,\n",
    "    footnote=\"* All spatial and temporal points pooled\"\n",
    ")"
   ]
  },
  {
   "cell_type": "code",
   "execution_count": 37,
   "id": "ac439574-7180-4adf-911e-fb2ac0041bf8",
   "metadata": {},
   "outputs": [
    {
     "name": "stdout",
     "output_type": "stream",
     "text": [
      "Animation saved as 'PDE-3/pde_3_animate_ut_slice.gif'\n",
      "Animation saved as 'PDE-3/pde_3_animate_vt_slice.gif'\n"
     ]
    }
   ],
   "source": [
    "results_dir = \"PDE-3\"\n",
    "os.makedirs(results_dir, exist_ok=True)\n",
    "\n",
    "# Extract 1D grid for x (from downsampled data)\n",
    "x3_ds_grid = x3_ds[:, 0, 0]  # length = nx_ds\n",
    "t3_ds_grid = t3_ds[0, 0, :]  # length = nt_ds\n",
    "\n",
    "# Choose a fixed y slice, e.g., the middle index\n",
    "y_index = y3_ds.shape[1] // 2\n",
    "\n",
    "save_path_ut = os.path.join(results_dir, \"pde_3_animate_ut_slice.gif\")\n",
    "animate_comparison_2D_slice(x3_ds_grid, t3_ds_grid, u_t3_ds_true, u_t3_ds_pred,\n",
    "                            y_index, save_path_ut, variable_label=\"u_t\", duration=0.1)\n",
    "\n",
    "save_path_vt = os.path.join(results_dir, \"pde_3_animate_vt_slice.gif\")\n",
    "animate_comparison_2D_slice(x3_ds_grid, t3_ds_grid, v_t3_ds_true, v_t3_ds_pred,\n",
    "                            y_index, save_path_vt, variable_label=\"v_t\", duration=0.1)"
   ]
  },
  {
   "cell_type": "code",
   "execution_count": null,
   "id": "a0b0da81-a283-4a9d-a21a-53d9b568e48b",
   "metadata": {},
   "outputs": [],
   "source": []
  }
 ],
 "metadata": {
  "kernelspec": {
   "display_name": "Python [conda env:base] *",
   "language": "python",
   "name": "conda-base-py"
  },
  "language_info": {
   "codemirror_mode": {
    "name": "ipython",
    "version": 3
   },
   "file_extension": ".py",
   "mimetype": "text/x-python",
   "name": "python",
   "nbconvert_exporter": "python",
   "pygments_lexer": "ipython3",
   "version": "3.12.7"
  }
 },
 "nbformat": 4,
 "nbformat_minor": 5
}
